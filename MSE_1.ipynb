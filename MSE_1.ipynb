{
  "nbformat": 4,
  "nbformat_minor": 0,
  "metadata": {
    "colab": {
      "provenance": [],
      "authorship_tag": "ABX9TyNyPVqIwZ+OhKk+/gQk65/k",
      "include_colab_link": true
    },
    "kernelspec": {
      "name": "python3",
      "display_name": "Python 3"
    },
    "language_info": {
      "name": "python"
    }
  },
  "cells": [
    {
      "cell_type": "markdown",
      "metadata": {
        "id": "view-in-github",
        "colab_type": "text"
      },
      "source": [
        "<a href=\"https://colab.research.google.com/github/mahi961/sudoko-solver/blob/main/MSE_1.ipynb\" target=\"_parent\"><img src=\"https://colab.research.google.com/assets/colab-badge.svg\" alt=\"Open In Colab\"/></a>"
      ]
    },
    {
      "cell_type": "code",
      "source": [
        "# Function to check if a number can be placed at a given position\n",
        "def is_safe(board, row, col, num):\n",
        "    # Check the row\n",
        "    for i in range(9):\n",
        "        if board[row][i] == num:\n",
        "            return False\n",
        "\n",
        "    # Check the column\n",
        "    for i in range(9):\n",
        "        if board[i][col] == num:\n",
        "            return False\n",
        "\n",
        "    # Check the 3x3 box\n",
        "    start_row = row - row % 3\n",
        "    start_col = col - col % 3\n",
        "    for i in range(3):\n",
        "        for j in range(3):\n",
        "            if board[i + start_row][j + start_col] == num:\n",
        "                return False\n",
        "\n",
        "    return True\n",
        "\n",
        "# Function to solve the Sudoku using backtracking\n",
        "def solve_sudoku(board):\n",
        "    # Find the next empty space (denoted by 0)\n",
        "    for row in range(9):\n",
        "        for col in range(9):\n",
        "            if board[row][col] == 0:\n",
        "                # Try digits 1-9 for this position\n",
        "                for num in range(1, 10):\n",
        "                    if is_safe(board, row, col, num):\n",
        "                        board[row][col] = num  # Place the number\n",
        "\n",
        "                        # Recursively try to solve the next positions\n",
        "                        if solve_sudoku(board):\n",
        "                            return True\n",
        "\n",
        "                        # If placing num doesn't lead to a solution, backtrack\n",
        "                        board[row][col] = 0\n",
        "\n",
        "                return False  # No valid number can be placed here\n",
        "\n",
        "    return True  # All cells are filled, puzzle is solved\n",
        "\n",
        "# Function to print the Sudoku board\n",
        "def print_board(board):\n",
        "    for row in board:\n",
        "        print(\" \".join(str(num) for num in row))\n",
        "\n",
        "# Function to take input from the user for the Sudoku puzzle\n",
        "def get_user_input():\n",
        "    board = []\n",
        "    print(\"Enter the Sudoku puzzle row by row. Use 0 for empty cells.\")\n",
        "\n",
        "    for i in range(9):\n",
        "        while True:\n",
        "            try:\n",
        "                row = list(map(int, input(f\"Enter row {i + 1} (space-separated values): \").split()))\n",
        "                if len(row) != 9:\n",
        "                    raise ValueError(\"Each row must have exactly 9 numbers.\")\n",
        "                board.append(row)\n",
        "                break\n",
        "            except ValueError as e:\n",
        "                print(f\"Invalid input. Please try again: {e}\")\n",
        "    return board\n",
        "\n",
        "# Main code to execute\n",
        "if __name__ == \"__main__\":\n",
        "    # Get user input for the Sudoku puzzle\n",
        "    board = get_user_input()\n",
        "\n",
        "\n",
        "    # Solve the Sudoku puzzle\n",
        "    if solve_sudoku(board):\n",
        "        print(\"Solved Sudoku:\")\n",
        "        print_board(board)\n",
        "    else:\n",
        "        print(\"No solution exists\")\n"
      ],
      "metadata": {
        "colab": {
          "base_uri": "https://localhost:8080/"
        },
        "id": "VAXuXguJjefW",
        "outputId": "176a3525-bede-46a7-8b36-31c92b598b2a"
      },
      "execution_count": 7,
      "outputs": [
        {
          "output_type": "stream",
          "name": "stdout",
          "text": [
            "Enter the Sudoku puzzle row by row. Use 0 for empty cells.\n",
            "Enter row 1 (space-separated values): 5 3 0 0 7 0 0 0 0\n",
            "Enter row 2 (space-separated values): 6 0 0 1 9 5 0 0 0\n",
            "Enter row 3 (space-separated values): 0 9 8 0 0 0 0 6 0\n",
            "Enter row 4 (space-separated values):  8 0 0 0 6 0 0 0 3\n",
            "Enter row 5 (space-separated values): 4 0 0 8 0 3 0 0 1\n",
            "Enter row 6 (space-separated values): 7 0 0 0 2 0 0 0 6\n",
            "Enter row 7 (space-separated values):  0 6 0 0 0 0 2 8 0\n",
            "Enter row 8 (space-separated values):  0 0 0 4 1 9 0 0 5\n",
            "Enter row 9 (space-separated values):  0 0 0 0 8 0 0 7 9\n",
            "Solved Sudoku:\n",
            "5 3 4 6 7 8 9 1 2\n",
            "6 7 2 1 9 5 3 4 8\n",
            "1 9 8 3 4 2 5 6 7\n",
            "8 5 9 7 6 1 4 2 3\n",
            "4 2 6 8 5 3 7 9 1\n",
            "7 1 3 9 2 4 8 5 6\n",
            "9 6 1 5 3 7 2 8 4\n",
            "2 8 7 4 1 9 6 3 5\n",
            "3 4 5 2 8 6 1 7 9\n"
          ]
        }
      ]
    }
  ]
}